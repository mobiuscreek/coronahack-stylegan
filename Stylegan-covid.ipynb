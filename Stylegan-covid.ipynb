{
 "cells": [
  {
   "cell_type": "markdown",
   "metadata": {},
   "source": [
    "##  Stylegan for generation of synthetic x-ray images"
   ]
  },
  {
   "cell_type": "markdown",
   "metadata": {},
   "source": [
    "Clone the relevant repositories for the stylegan and the x-ray images"
   ]
  },
  {
   "cell_type": "code",
   "execution_count": null,
   "metadata": {},
   "outputs": [],
   "source": [
    "!git clone https://github.com/NVlabs/stylegan2\n",
    "\n",
    "!git clone https://github.com/ieee8023/covid-chestxray-dataset"
   ]
  },
  {
   "cell_type": "markdown",
   "metadata": {},
   "source": [
    "Read filenames from an input directory and store them into a list"
   ]
  },
  {
   "cell_type": "code",
   "execution_count": 1,
   "metadata": {},
   "outputs": [
    {
     "name": "stderr",
     "output_type": "stream",
     "text": [
      "/home/plissken/Documents/Projects/coronahack/hackathon/lib64/python3.7/site-packages/tensorflow/python/framework/dtypes.py:516: FutureWarning: Passing (type, 1) or '1type' as a synonym of type is deprecated; in a future version of numpy, it will be understood as (type, (1,)) / '(1,)type'.\n",
      "  _np_qint8 = np.dtype([(\"qint8\", np.int8, 1)])\n",
      "/home/plissken/Documents/Projects/coronahack/hackathon/lib64/python3.7/site-packages/tensorflow/python/framework/dtypes.py:517: FutureWarning: Passing (type, 1) or '1type' as a synonym of type is deprecated; in a future version of numpy, it will be understood as (type, (1,)) / '(1,)type'.\n",
      "  _np_quint8 = np.dtype([(\"quint8\", np.uint8, 1)])\n",
      "/home/plissken/Documents/Projects/coronahack/hackathon/lib64/python3.7/site-packages/tensorflow/python/framework/dtypes.py:518: FutureWarning: Passing (type, 1) or '1type' as a synonym of type is deprecated; in a future version of numpy, it will be understood as (type, (1,)) / '(1,)type'.\n",
      "  _np_qint16 = np.dtype([(\"qint16\", np.int16, 1)])\n",
      "/home/plissken/Documents/Projects/coronahack/hackathon/lib64/python3.7/site-packages/tensorflow/python/framework/dtypes.py:519: FutureWarning: Passing (type, 1) or '1type' as a synonym of type is deprecated; in a future version of numpy, it will be understood as (type, (1,)) / '(1,)type'.\n",
      "  _np_quint16 = np.dtype([(\"quint16\", np.uint16, 1)])\n",
      "/home/plissken/Documents/Projects/coronahack/hackathon/lib64/python3.7/site-packages/tensorflow/python/framework/dtypes.py:520: FutureWarning: Passing (type, 1) or '1type' as a synonym of type is deprecated; in a future version of numpy, it will be understood as (type, (1,)) / '(1,)type'.\n",
      "  _np_qint32 = np.dtype([(\"qint32\", np.int32, 1)])\n",
      "/home/plissken/Documents/Projects/coronahack/hackathon/lib64/python3.7/site-packages/tensorflow/python/framework/dtypes.py:525: FutureWarning: Passing (type, 1) or '1type' as a synonym of type is deprecated; in a future version of numpy, it will be understood as (type, (1,)) / '(1,)type'.\n",
      "  np_resource = np.dtype([(\"resource\", np.ubyte, 1)])\n",
      "/home/plissken/Documents/Projects/coronahack/hackathon/lib64/python3.7/site-packages/tensorboard/compat/tensorflow_stub/dtypes.py:541: FutureWarning: Passing (type, 1) or '1type' as a synonym of type is deprecated; in a future version of numpy, it will be understood as (type, (1,)) / '(1,)type'.\n",
      "  _np_qint8 = np.dtype([(\"qint8\", np.int8, 1)])\n",
      "/home/plissken/Documents/Projects/coronahack/hackathon/lib64/python3.7/site-packages/tensorboard/compat/tensorflow_stub/dtypes.py:542: FutureWarning: Passing (type, 1) or '1type' as a synonym of type is deprecated; in a future version of numpy, it will be understood as (type, (1,)) / '(1,)type'.\n",
      "  _np_quint8 = np.dtype([(\"quint8\", np.uint8, 1)])\n",
      "/home/plissken/Documents/Projects/coronahack/hackathon/lib64/python3.7/site-packages/tensorboard/compat/tensorflow_stub/dtypes.py:543: FutureWarning: Passing (type, 1) or '1type' as a synonym of type is deprecated; in a future version of numpy, it will be understood as (type, (1,)) / '(1,)type'.\n",
      "  _np_qint16 = np.dtype([(\"qint16\", np.int16, 1)])\n",
      "/home/plissken/Documents/Projects/coronahack/hackathon/lib64/python3.7/site-packages/tensorboard/compat/tensorflow_stub/dtypes.py:544: FutureWarning: Passing (type, 1) or '1type' as a synonym of type is deprecated; in a future version of numpy, it will be understood as (type, (1,)) / '(1,)type'.\n",
      "  _np_quint16 = np.dtype([(\"quint16\", np.uint16, 1)])\n",
      "/home/plissken/Documents/Projects/coronahack/hackathon/lib64/python3.7/site-packages/tensorboard/compat/tensorflow_stub/dtypes.py:545: FutureWarning: Passing (type, 1) or '1type' as a synonym of type is deprecated; in a future version of numpy, it will be understood as (type, (1,)) / '(1,)type'.\n",
      "  _np_qint32 = np.dtype([(\"qint32\", np.int32, 1)])\n",
      "/home/plissken/Documents/Projects/coronahack/hackathon/lib64/python3.7/site-packages/tensorboard/compat/tensorflow_stub/dtypes.py:550: FutureWarning: Passing (type, 1) or '1type' as a synonym of type is deprecated; in a future version of numpy, it will be understood as (type, (1,)) / '(1,)type'.\n",
      "  np_resource = np.dtype([(\"resource\", np.ubyte, 1)])\n"
     ]
    }
   ],
   "source": [
    "from image_preprocessing import list_image_filenames, image_resize\n",
    "\n",
    "DIR = './covid-chestxray-dataset/images/'\n",
    "DIR_RES ='./imgs_256'\n",
    "\n",
    "image_list = list_image_filenames(DIR)"
   ]
  },
  {
   "cell_type": "markdown",
   "metadata": {},
   "source": [
    "Resize images and write new images in a new folder"
   ]
  },
  {
   "cell_type": "code",
   "execution_count": 2,
   "metadata": {},
   "outputs": [],
   "source": [
    "for image in image_list:\n",
    "    image_resize(image, directory=DIR_RES)"
   ]
  },
  {
   "cell_type": "code",
   "execution_count": 3,
   "metadata": {},
   "outputs": [
    {
     "name": "stdout",
     "output_type": "stream",
     "text": [
      "16654_1_1.png\r\n",
      "16654_2_1.jpg\r\n",
      "16654_4_1.jpg\r\n",
      "16660_1_1.jpg\r\n",
      "16660_2_1.jpg\r\n",
      "16660_3_1.jpg\r\n",
      "16660_4_1.jpg\r\n",
      "16660_5_1.jpg\r\n",
      "16663_1_1.jpg\r\n",
      "16663_1_2.jpg\r\n",
      "16664_1_1.jpg\r\n",
      "16664_2_1.jpg\r\n",
      "16672_1_1.jpg\r\n",
      "16674_1_1.jpg\r\n",
      "16691_1_1.jpg\r\n",
      "1.CXRCTThoraximagesofCOVID-19fromSingapore.pdf-000-fig1a.png\r\n",
      "1.CXRCTThoraximagesofCOVID-19fromSingapore.pdf-000-fig1b.png\r\n",
      "1.CXRCTThoraximagesofCOVID-19fromSingapore.pdf-001-fig2a.png\r\n",
      "1.CXRCTThoraximagesofCOVID-19fromSingapore.pdf-001-fig2b.png\r\n",
      "1.CXRCTThoraximagesofCOVID-19fromSingapore.pdf-002-fig3a.png\r\n",
      "1.CXRCTThoraximagesofCOVID-19fromSingapore.pdf-002-fig3b.png\r\n",
      "1.CXRCTThoraximagesofCOVID-19fromSingapore.pdf-003-fig4a.png\r\n",
      "1.CXRCTThoraximagesofCOVID-19fromSingapore.pdf-003-fig4b.png\r\n",
      "1-s2.0-S0140673620303706-fx1_lrg.jpg\r\n",
      "1-s2.0-S0929664620300449-gr2_lrg-a.jpg\r\n",
      "1-s2.0-S0929664620300449-gr2_lrg-b.jpg\r\n",
      "1-s2.0-S0929664620300449-gr2_lrg-c.jpg\r\n",
      "1-s2.0-S0929664620300449-gr2_lrg-d.jpg\r\n",
      "1-s2.0-S0929664620300449-gr3_lrg-a.jpg\r\n",
      "1-s2.0-S0929664620300449-gr3_lrg-b.jpg\r\n",
      "1-s2.0-S0929664620300449-gr3_lrg-c.jpg\r\n",
      "1-s2.0-S0929664620300449-gr3_lrg-d.jpg\r\n",
      "1-s2.0-S1684118220300608-main.pdf-001.jpg\r\n",
      "1-s2.0-S1684118220300608-main.pdf-002.jpg\r\n",
      "1-s2.0-S1684118220300682-main.pdf-002-a1.png\r\n",
      "1-s2.0-S1684118220300682-main.pdf-002-a2.png\r\n",
      "1-s2.0-S1684118220300682-main.pdf-003-b1.png\r\n",
      "1-s2.0-S1684118220300682-main.pdf-003-b2.png\r\n",
      "23E99E2E-447C-46E5-8EB2-D35D12473C39.png\r\n",
      "41591_2020_819_Fig1_HTML.webp-day10.png\r\n",
      "41591_2020_819_Fig1_HTML.webp-day5.png\r\n",
      "4ad30bc6-2da0-4f84-bc9b-62acabfd518a.annot.original.png\r\n",
      "7EF28E12-F628-4BEC-A8C5-E6277C2E4F60.png\r\n",
      "acute-respiratory-distress-syndrome-ards-1.jpg\r\n",
      "acute-respiratory-distress-syndrome-ards.jpg\r\n",
      "all14238-fig-0001-m-b.jpg\r\n",
      "all14238-fig-0001-m-c.jpg\r\n",
      "all14238-fig-0002-m-d.jpg\r\n",
      "all14238-fig-0002-m-e.jpg\r\n",
      "all14238-fig-0002-m-f.jpg\r\n",
      "ards-secondary-to-tiger-snake-bite.png\r\n",
      "ARDSSevere.png\r\n",
      "aspiration-pneumonia-5-day0.jpg\r\n",
      "aspiration-pneumonia-5-day10.jpg\r\n",
      "aspiration-pneumonia-5-day27.jpg\r\n",
      "aspiration-pneumonia-5-day3.jpg\r\n",
      "auntminnie-2020_01_31_20_24_2322_2020_01_31_x-ray_coronavirus_US.jpg\r\n",
      "cavitating-pneumonia-4-day0-L.jpg\r\n",
      "cavitating-pneumonia-4-day0-PA.jpg\r\n",
      "cavitating-pneumonia-4-day28-L.png\r\n",
      "cavitating-pneumonia-4-day28-PA.png\r\n",
      "chlamydia-pneumonia-L.png\r\n",
      "chlamydia-pneumonia-PA.png\r\n",
      "ciaa199.pdf-001-a.png\r\n",
      "ciaa199.pdf-001-b.png\r\n",
      "ciaa199.pdf-001-c.png\r\n",
      "covid-19-caso-70-1-L.jpg\r\n",
      "covid-19-caso-70-1-PA.jpg\r\n",
      "covid-19-caso-70-2-APS.jpg\r\n",
      "covid-19-infection-exclusive-gastrointestinal-symptoms-l.png\r\n",
      "covid-19-infection-exclusive-gastrointestinal-symptoms-pa.png\r\n",
      "covid-19-pneumonia-12.jpg\r\n",
      "covid-19-pneumonia-14-L.png\r\n",
      "covid-19-pneumonia-14-PA.png\r\n",
      "covid-19-pneumonia-15-L.jpg\r\n",
      "covid-19-pneumonia-15-PA.jpg\r\n",
      "covid-19-pneumonia-19.jpg\r\n",
      "covid-19-pneumonia-20.jpg\r\n",
      "covid-19-pneumonia-20-l-on-admission.jpg\r\n",
      "covid-19-pneumonia-20-pa-on-admission.jpg\r\n",
      "covid-19-pneumonia-22-day1-l.png\r\n",
      "covid-19-pneumonia-22-day1-pa.png\r\n",
      "covid-19-pneumonia-22-day2-pa.png\r\n",
      "covid-19-pneumonia-23-day1.jpg\r\n",
      "covid-19-pneumonia-23-day3.jpg\r\n",
      "covid-19-pneumonia-23-day9.jpg\r\n",
      "covid-19-pneumonia-24-day12.jpg\r\n",
      "covid-19-pneumonia-24-day6.jpg\r\n",
      "covid-19-pneumonia-24-day7.jpg\r\n",
      "covid-19-pneumonia-28.png\r\n",
      "covid-19-pneumonia-2.jpg\r\n",
      "covid-19-pneumonia-30-L.jpg\r\n",
      "covid-19-pneumonia-30-PA.jpg\r\n",
      "covid-19-pneumonia-34.png\r\n",
      "covid-19-pneumonia-35-1.jpg\r\n",
      "covid-19-pneumonia-35-2.jpg\r\n",
      "covid-19-pneumonia-38-l.jpg\r\n",
      "covid-19-pneumonia-38-pa.jpg\r\n",
      "covid-19-pneumonia-40.jpg\r\n",
      "covid-19-pneumonia-41-day-0.jpg\r\n",
      "covid-19-pneumonia-41-day-2.jpg\r\n",
      "covid-19-pneumonia-49-day4.jpg\r\n",
      "covid-19-pneumonia-49-day8.jpg\r\n",
      "covid-19-pneumonia-53.jpg\r\n",
      "covid-19-pneumonia-58-day-10.jpg\r\n",
      "covid-19-pneumonia-58-day-3.jpg\r\n",
      "covid-19-pneumonia-58-day-7.jpg\r\n",
      "covid-19-pneumonia-58-day-9.jpg\r\n",
      "covid-19-pneumonia-58-prior.jpg\r\n",
      "covid-19-pneumonia-7-L.jpg\r\n",
      "covid-19-pneumonia-7-PA.jpg\r\n",
      "covid-19-pneumonia-8.jpg\r\n",
      "covid-19-pneumonia-bilateral.jpg\r\n",
      "covid-19-pneumonia-evolution-over-a-week-1-day0-L.jpg\r\n",
      "covid-19-pneumonia-evolution-over-a-week-1-day0-PA.jpg\r\n",
      "covid-19-pneumonia-evolution-over-a-week-1-day3.jpg\r\n",
      "covid-19-pneumonia-evolution-over-a-week-1-day4.jpg\r\n",
      "covid-19-pneumonia-evolution-over-a-week-1-day6.jpg\r\n",
      "covid-19-pneumonia-mild.JPG\r\n",
      "covid-19-pneumonia-rapidly-progressive-12-hours.jpg\r\n",
      "covid-19-pneumonia-rapidly-progressive-3-days.jpg\r\n",
      "covid-19-pneumonia-rapidly-progressive-admission.jpg\r\n",
      "covid-19-rapidly-progressive-acute-respiratory-distress-syndrome-ards-admission.jpg\r\n",
      "covid-19-rapidly-progressive-acute-respiratory-distress-syndrome-ards-day-1.jpg\r\n",
      "covid-19-rapidly-progressive-acute-respiratory-distress-syndrome-ards-day-2.jpg\r\n",
      "covid-19-rapidly-progressive-acute-respiratory-distress-syndrome-ards-day-3.jpg\r\n",
      "fff49165-b22d-4bb4-b9d1-d5d62c52436c.annot.original.png\r\n",
      "gr1_lrg-a.jpg\r\n",
      "gr1_lrg-b.jpg\r\n",
      "jkms-35-e79-g001-l-a.jpg\r\n",
      "jkms-35-e79-g001-l-b.jpg\r\n",
      "jkms-35-e79-g001-l-c.jpg\r\n",
      "jkms-35-e79-g001-l-d.jpg\r\n",
      "jkms-35-e79-g001-l-e.jpg\r\n",
      "kjr-21-e24-g001-l-a.jpg\r\n",
      "kjr-21-e24-g001-l-b.jpg\r\n",
      "kjr-21-e24-g001-l-c.jpg\r\n",
      "kjr-21-e24-g002-l-a.jpg\r\n",
      "kjr-21-e24-g002-l-b.jpg\r\n",
      "kjr-21-e24-g002-l-c.jpg\r\n",
      "kjr-21-e24-g003-l-a.jpg\r\n",
      "kjr-21-e24-g003-l-b.jpg\r\n",
      "kjr-21-e24-g004-l-a.jpg\r\n",
      "kjr-21-e24-g004-l-b.jpg\r\n",
      "kjr-21-e25-g001-l-a.jpg\r\n",
      "klebsiella-pneumonia-1.jpg\r\n",
      "lancet-case2a.jpg\r\n",
      "lancet-case2b.jpg\r\n",
      "legionella-pneumonia-1.png\r\n",
      "legionella-pneumonia-2.jpg\r\n",
      "MERS-CoV-1-s2.0-S0378603X1500248X-gr4e.jpg\r\n",
      "nCoV-Snohomish-20382862_web1_M1-Lungs-EDH-200201-640x300@2x.jpg\r\n",
      "parapneumonic-effusion-1-L.png\r\n",
      "parapneumonic-effusion-1-PA.png\r\n",
      "pneumococcal-pneumonia-day0.jpg\r\n",
      "pneumococcal-pneumonia-day35.jpg\r\n",
      "pneumococcal-pneumonia-day7.jpg\r\n",
      "pneumocystis-carinii-pneumonia-1-L.jpg\r\n",
      "pneumocystis-carinii-pneumonia-1-PA.jpg\r\n",
      "pneumocystis-jirovecii-pneumonia-2.jpg\r\n",
      "pneumocystis-jirovecii-pneumonia-3-1.jpg\r\n",
      "pneumocystis-jirovecii-pneumonia-3-2.jpg\r\n",
      "pneumocystis-jirovecii-pneumonia-3-3.jpg\r\n",
      "pneumocystis-jiroveci-pneumonia-2.png\r\n",
      "pneumocystis-jiroveci-pneumonia-4-L.png\r\n",
      "pneumocystis-jiroveci-pneumonia-4-PA.png\r\n",
      "pneumocystis-pneumonia-12.png\r\n",
      "pneumocystis-pneumonia-1.jpg\r\n",
      "pneumocystis-pneumonia-2-L.png\r\n",
      "pneumocystis-pneumonia-2-PA.png\r\n",
      "pneumocystis-pneumonia-8.jpg\r\n",
      "pneumonia-7.jpg\r\n",
      "post-intubuation-pneumomediastium-and-pneumothorax-background-covid-19-pneumonia-day1.jpg\r\n",
      "post-intubuation-pneumomediastium-and-pneumothorax-background-covid-19-pneumonia-day6-1.jpg\r\n",
      "post-intubuation-pneumomediastium-and-pneumothorax-background-covid-19-pneumonia-day6-2.jpg\r\n",
      "post-intubuation-pneumomediastium-and-pneumothorax-background-covid-19-pneumonia-day7.jpg\r\n",
      "radiol.2020200274.fig3d.png\r\n",
      "radiopaedia-2019-novel-coronavirus-infected-pneumonia.jpg\r\n",
      "right-upper-lobe-pneumonia-9-L.jpg\r\n",
      "right-upper-lobe-pneumonia-9-PA.jpg\r\n",
      "ryct.2020003.fig2-a.png\r\n",
      "ryct.2020003.fig2-b.png\r\n",
      "ryct.2020003.fig2-c.png\r\n",
      "streptococcus-pneumoniae-pneumonia-1.jpg\r\n",
      "streptococcus-pneumoniae-pneumonia-temporal-evolution-1-day0.jpg\r\n",
      "streptococcus-pneumoniae-pneumonia-temporal-evolution-1-day1.jpg\r\n",
      "streptococcus-pneumoniae-pneumonia-temporal-evolution-1-day2.jpg\r\n",
      "streptococcus-pneumoniae-pneumonia-temporal-evolution-1-day3.jpg\r\n",
      "wong-0000.jpg\r\n",
      "wong-0002.jpg\r\n",
      "wong-0003.jpg\r\n",
      "wong-0004.jpg\r\n",
      "wong-0005.jpg\r\n",
      "X-ray_of_cyst_in_pneumocystis_pneumonia_1.jpg\r\n"
     ]
    }
   ],
   "source": [
    "!ls imgs_256/"
   ]
  },
  {
   "cell_type": "markdown",
   "metadata": {},
   "source": [
    "Convert images to tfrrecords for use from the stylegan"
   ]
  },
  {
   "cell_type": "code",
   "execution_count": 4,
   "metadata": {},
   "outputs": [
    {
     "name": "stdout",
     "output_type": "stream",
     "text": [
      "Loading images from \"./imgs_256\"\n",
      "Creating dataset \"tf_records\"\n",
      "WARNING:tensorflow:From /home/plissken/Documents/Projects/coronahack/image_preprocessing.py:65: The name tf.python_io.TFRecordOptions is deprecated. Please use tf.io.TFRecordOptions instead.\n",
      "\n",
      "WARNING:tensorflow:From /home/plissken/Documents/Projects/coronahack/image_preprocessing.py:66: The name tf.python_io.TFRecordCompressionType is deprecated. Please use tf.compat.v1.python_io.TFRecordCompressionType instead.\n",
      "\n",
      "WARNING:tensorflow:From /home/plissken/Documents/Projects/coronahack/image_preprocessing.py:71: The name tf.python_io.TFRecordWriter is deprecated. Please use tf.io.TFRecordWriter instead.\n",
      "\n",
      "Added 194 images.                       \n"
     ]
    }
   ],
   "source": [
    "from image_preprocessing import tfrecords_from_images\n",
    "\n",
    "tfrecords_from_images(tfrecord_dir='tf_records', image_dir=DIR_RES, shuffle=False)"
   ]
  },
  {
   "cell_type": "markdown",
   "metadata": {},
   "source": [
    "Train the styleGAN"
   ]
  },
  {
   "cell_type": "code",
   "execution_count": null,
   "metadata": {},
   "outputs": [],
   "source": [
    "import os\n",
    "os.chdir('stylegan2')\n",
    "\n",
    "!python run_training.py --data-dir ../ --dataset tf_records --config=config-f"
   ]
  }
 ],
 "metadata": {
  "kernelspec": {
   "display_name": "Python 3",
   "language": "python",
   "name": "python3"
  },
  "language_info": {
   "codemirror_mode": {
    "name": "ipython",
    "version": 3
   },
   "file_extension": ".py",
   "mimetype": "text/x-python",
   "name": "python",
   "nbconvert_exporter": "python",
   "pygments_lexer": "ipython3",
   "version": "3.7.5"
  }
 },
 "nbformat": 4,
 "nbformat_minor": 4
}
